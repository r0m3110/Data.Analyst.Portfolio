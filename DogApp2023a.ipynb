{
 "cells": [
  {
   "cell_type": "code",
   "execution_count": 10,
   "id": "1978cbff",
   "metadata": {},
   "outputs": [],
   "source": [
    "#09/28/2023\n",
    "class Dog:\n",
    "    def __init__(this,color):\n",
    "        this.color = color\n",
    "    def GetColor(this):\n",
    "        return this.color\n",
    "    def __str__(newDog):\n",
    "        return newDog.GetColor"
   ]
  },
  {
   "cell_type": "code",
   "execution_count": 11,
   "id": "47be40f1",
   "metadata": {},
   "outputs": [
    {
     "name": "stdout",
     "output_type": "stream",
     "text": [
      "White\n"
     ]
    }
   ],
   "source": [
    "print(Dog.GetColor(Dog('White')))"
   ]
  },
  {
   "cell_type": "code",
   "execution_count": 24,
   "id": "b129e922",
   "metadata": {},
   "outputs": [],
   "source": [
    "pearlDog = Dog('Gray')\n",
    "crystalDog = Dog('Black')"
   ]
  },
  {
   "cell_type": "code",
   "execution_count": 25,
   "id": "71ed0704",
   "metadata": {},
   "outputs": [
    {
     "name": "stdout",
     "output_type": "stream",
     "text": [
      "Gray\n"
     ]
    }
   ],
   "source": [
    "print(pearlDog.GetColor())"
   ]
  },
  {
   "cell_type": "code",
   "execution_count": 27,
   "id": "34e30f97",
   "metadata": {},
   "outputs": [
    {
     "name": "stdout",
     "output_type": "stream",
     "text": [
      "black & White\n"
     ]
    }
   ],
   "source": [
    "newDog = Dog('black & White')\n",
    "print(newDog.GetColor())"
   ]
  },
  {
   "cell_type": "code",
   "execution_count": 30,
   "id": "72caa983",
   "metadata": {},
   "outputs": [
    {
     "name": "stdout",
     "output_type": "stream",
     "text": [
      "black & White\n"
     ]
    }
   ],
   "source": [
    "print(newDog.GetColor())\n",
    "# Need to use the __str__() method - converts object into readable string"
   ]
  },
  {
   "cell_type": "code",
   "execution_count": 33,
   "id": "f6e9bf07",
   "metadata": {},
   "outputs": [
    {
     "name": "stdout",
     "output_type": "stream",
     "text": [
      "black & White\n"
     ]
    }
   ],
   "source": [
    "print(newDog.color)"
   ]
  },
  {
   "cell_type": "code",
   "execution_count": null,
   "id": "1c42afa4",
   "metadata": {},
   "outputs": [],
   "source": []
  }
 ],
 "metadata": {
  "kernelspec": {
   "display_name": "Python 3 (ipykernel)",
   "language": "python",
   "name": "python3"
  },
  "language_info": {
   "codemirror_mode": {
    "name": "ipython",
    "version": 3
   },
   "file_extension": ".py",
   "mimetype": "text/x-python",
   "name": "python",
   "nbconvert_exporter": "python",
   "pygments_lexer": "ipython3",
   "version": "3.11.3"
  }
 },
 "nbformat": 4,
 "nbformat_minor": 5
}

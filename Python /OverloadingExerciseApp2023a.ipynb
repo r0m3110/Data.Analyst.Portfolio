{
 "cells": [
  {
   "cell_type": "code",
   "execution_count": 8,
   "id": "c97e76f6",
   "metadata": {},
   "outputs": [
    {
     "name": "stdout",
     "output_type": "stream",
     "text": [
      "Name  Tarkeshwar\n",
      "Address  Monrovia\n",
      "Phone  334423424\n"
     ]
    }
   ],
   "source": [
    "class Person:\n",
    "    def __init__(self, name: str, address: str, phone: int):\n",
    "        self.name = name\n",
    "        self.address = address\n",
    "        self.phone = phone\n",
    "    @classmethod\n",
    "    def classPersonConstructor (cls, person: str) ->'Person':\n",
    "        return person\n",
    "person=Person(\"Tarkeshwar\",\"Monrovia\",\"334423424\")\n",
    "secondObj = Person.classPersonConstructor(person)\n",
    "print (\"Name \",secondObj.name)\n",
    "print (\"Address \",secondObj.address)\n",
    "print (\"Phone \",secondObj.phone)"
   ]
  },
  {
   "cell_type": "code",
   "execution_count": 24,
   "id": "ab1498c6",
   "metadata": {},
   "outputs": [
    {
     "name": "stdout",
     "output_type": "stream",
     "text": [
      "Person1  Name : No Name Address : No Address Phone : 00000000\n",
      "Person2  Name : Tarkeshwar Address : No Address Phone : 00000000\n",
      "Person3  Name : Tarkeshwar Address : Monrovia Phone : 00000000\n",
      "Person4  Name : Tarkeshwar Address : Monrovia Phone : 334423424\n"
     ]
    }
   ],
   "source": [
    "class Person:\n",
    "    def __init__(self, name=\"No Name\",address=\"No Address\", phone=\"00000000\"):\n",
    "        self.name = name\n",
    "        self.address = address\n",
    "        self.phone = phone\n",
    "        \n",
    "    def __str__(self):\n",
    "        return \"Name : \"+str(self.name)+\" Address : \"+str(self.address)+\" Phone : \"+str(self.phone)\n",
    "            \n",
    "person1=Person()\n",
    "person2=Person(\"Tarkeshwar\")\n",
    "person3=Person (\"Tarkeshwar\", \"Monrovia\")\n",
    "person4=Person (\"Tarkeshwar\", \"Monrovia\", \"334423424\") \n",
    "print (\"Person1 \",person1) \n",
    "print (\"Person2 \",person2)\n",
    "print (\"Person3 \",person3)\n",
    "print (\"Person4 \",person4)"
   ]
  }
 ],
 "metadata": {
  "kernelspec": {
   "display_name": "Python 3 (ipykernel)",
   "language": "python",
   "name": "python3"
  },
  "language_info": {
   "codemirror_mode": {
    "name": "ipython",
    "version": 3
   },
   "file_extension": ".py",
   "mimetype": "text/x-python",
   "name": "python",
   "nbconvert_exporter": "python",
   "pygments_lexer": "ipython3",
   "version": "3.11.3"
  }
 },
 "nbformat": 4,
 "nbformat_minor": 5
}

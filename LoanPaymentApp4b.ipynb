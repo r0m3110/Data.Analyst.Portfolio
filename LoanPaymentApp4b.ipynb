{
 "cells": [
  {
   "cell_type": "code",
   "execution_count": 1,
   "id": "3a3ac2ba",
   "metadata": {},
   "outputs": [
    {
     "name": "stdout",
     "output_type": "stream",
     "text": [
      "Hello, and Welcome to the Loan Payment App 1.0\n"
     ]
    }
   ],
   "source": [
    "# Let's do Loan Payment App\n",
    "# Outputs : -> Monthly loan payment\n",
    "# Inputs: \n",
    "#    Loan amount\n",
    "#    Loan term\n",
    "#    Annual Interest Rate\n",
    "print(\"Hello, and Welcome to the Loan Payment App 1.0\")"
   ]
  },
  {
   "cell_type": "code",
   "execution_count": 2,
   "id": "6e570502",
   "metadata": {},
   "outputs": [
    {
     "name": "stdout",
     "output_type": "stream",
     "text": [
      "Enter Loan Amount. 100000\n",
      "What is the term of the loan? 30\n",
      "What is the Annual Interest Rate? 5\n"
     ]
    }
   ],
   "source": [
    "# provide current tax rate:\n",
    "TAX_RATE = 0.20\n",
    "# Get Laon amount, loan term and annual interest rate from end user:\n",
    "strLoanAmt = input('Enter Loan Amount. ')\n",
    "strLoanTerm = input('What is the term of the loan? ')\n",
    "strAnnIntRate = input('What is the Annual Interest Rate? ')"
   ]
  },
  {
   "cell_type": "code",
   "execution_count": 3,
   "id": "e3c59de9",
   "metadata": {},
   "outputs": [],
   "source": [
    "# convert inputs to numeric values:\n",
    "fltLoanAmt = float(strLoanAmt)\n",
    "fltLoanTerm = float(strLoanTerm)\n",
    "fltAnnIntRate = float(strAnnIntRate)\n",
    "# convert loan term and Annual interest rate into months:\n",
    "fltLoanTerm = fltLoanTerm * 12\n",
    "fltAnnIntRate = (fltAnnIntRate / 12) / 100"
   ]
  },
  {
   "cell_type": "code",
   "execution_count": 4,
   "id": "e8538418",
   "metadata": {},
   "outputs": [],
   "source": [
    "# calculate Loan Payment\n",
    "fltLoanPayment = fltLoanAmt * (fltAnnIntRate * (( 1 + fltAnnIntRate) ** fltLoanTerm)) / (((1 + fltAnnIntRate) ** fltLoanTerm) - 1)"
   ]
  },
  {
   "cell_type": "code",
   "execution_count": 5,
   "id": "f181a29e",
   "metadata": {},
   "outputs": [
    {
     "name": "stdout",
     "output_type": "stream",
     "text": [
      "For a loan amount of $100,000.00, a term of 30 years, and an interest rate of 5%, the monthly payment will be $536.82.\n"
     ]
    }
   ],
   "source": [
    "print(f\"For a loan amount of ${fltLoanAmt:,.2f}, a term of {strLoanTerm} years, and an interest rate of {strAnnIntRate}%, the monthly payment will be ${fltLoanPayment:,.2f}.\")"
   ]
  },
  {
   "cell_type": "code",
   "execution_count": null,
   "id": "1aacf200",
   "metadata": {},
   "outputs": [],
   "source": []
  }
 ],
 "metadata": {
  "kernelspec": {
   "display_name": "Python 3 (ipykernel)",
   "language": "python",
   "name": "python3"
  },
  "language_info": {
   "codemirror_mode": {
    "name": "ipython",
    "version": 3
   },
   "file_extension": ".py",
   "mimetype": "text/x-python",
   "name": "python",
   "nbconvert_exporter": "python",
   "pygments_lexer": "ipython3",
   "version": "3.11.3"
  }
 },
 "nbformat": 4,
 "nbformat_minor": 5
}
